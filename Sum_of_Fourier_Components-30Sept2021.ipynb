{
 "cells": [
  {
   "cell_type": "markdown",
   "metadata": {},
   "source": [
    "This is a Jupyter notebook to visualze the Fourier series for a constant function $ V(y) = V_0 $\n",
    "for the range (0,1)\n",
    "\n",
    "It was written and tested using Python 3.7.6 in September, 2021 by Mike Sokoloff.\n",
    "\n",
    "The purpose is to make plots plots of $ \\sum_n V_n(y) $ where the $ V_n(y) $ are the\n",
    "Fourier components \n",
    "\n",
    "$ V_n (y) = \\frac{4 V_0}{\\pi} \\frac{1}{n} \\, \\sin{  n \\pi y /a } $\n",
    "\n",
    "If you are new to Python and want an online resource, you may find\n",
    "[w3schools](https://www.w3schools.com/PYTHON/) very useful."
   ]
  },
  {
   "cell_type": "markdown",
   "metadata": {},
   "source": [
    "***\n",
    "\n",
    "In the cell below, the code imports libraries that will be used for doing calculations and making plots.\n",
    "\n",
    "[numpy.arange](https://numpy.org/doc/stable/reference/generated/numpy.arange.html) creates a list of evenly spaced values\n",
    "\n",
    "[math](https://docs.python.org/3/library/math.html) provides access to constants and mathematical functions\n",
    "\n",
    "[matplotlib.pyplot](https://matplotlib.org/stable/api/_as_gen/matplotlib.pyplot.html) is the workhorse for plotting in scientific Python\n",
    "\n",
    "[pylab](https://matplotlib.org/2.0.2/faq/usage_faq.html#matplotlib-pyplot-and-pylab-how-are-they-related) pylab is a convenience module that bulk imports matplotlib.pyplot (for plotting) and numpy (for mathematics and working with arrays) in a single name space. Although many examples use pylab, it is no longer recommended. But it does what we want here. *Caveat Emptor*\n",
    "\n",
    "[mpl_toolkits.mplot3d](https://matplotlib.org/2.2.2/mpl_toolkits/index.html)  provides some basic 3D plotting\n"
   ]
  },
  {
   "cell_type": "code",
   "execution_count": 21,
   "metadata": {},
   "outputs": [],
   "source": [
    "import numpy as np\n",
    "import math\n",
    "import matplotlib.pyplot as plt\n",
    "from pylab import meshgrid,cm,imshow,contour,clabel,colorbar,axis,title,show\n",
    "\n",
    "from mpl_toolkits.mplot3d import Axes3D"
   ]
  },
  {
   "cell_type": "code",
   "execution_count": 86,
   "metadata": {},
   "outputs": [],
   "source": [
    "## here, we define a sum of Fourier components\n",
    "## the first argument is the value of \"y\" \n",
    "## in the range (0,1) where the function will\n",
    "## be evaluated.\n",
    "##\n",
    "## the second argument is the number of non-zero\n",
    "## Fourier components to be summed\n",
    "##\n",
    "## note that only odd \"n\" have non-zero V_n contributions\n",
    "## for for each m we want to calculate the corresponding\n",
    "## oddNumber (n) to use in the sum\n",
    "\n",
    "def V(y,m):\n",
    "    terms = np.zeros(m)\n",
    "    for ii in range(m):\n",
    "##        print(\"2*(ii-1)-1 = \",2*(ii+1)-1)\n",
    "        oddNumber = 2*(ii+1)-1\n",
    "        terms[ii] =  (1./oddNumber)*math.sin(oddNumber*math.pi*y)\n",
    "##        print(\"(1./oddNumber = \",(1./oddNumber))\n",
    "##        print(\"calculated term = \",(1./oddNumber)*math.sin(oddNumber*math.pi*y))\n",
    "##        print(\"ii,jj,terms[ii] = \",ii,oddNumber,terms[ii])\n",
    "##    print(\"terms = \",terms)\n",
    "    sum = (4/math.pi)*np.sum(terms)\n",
    "    return sum\n",
    "    \n",
    "            "
   ]
  },
  {
   "cell_type": "code",
   "execution_count": 92,
   "metadata": {},
   "outputs": [
    {
     "name": "stdout",
     "output_type": "stream",
     "text": [
      "V(0.4,1)   =  1.2732395447351628\n",
      "V(0.4,2)   =  0.8488263631567753\n",
      "V(0.4,3)   =  1.1034742721038078\n",
      "V(0.4,5)   =  1.0630539690963425\n",
      "V(0.4,10)  =  0.9682476228907633\n",
      "V(0.4,20)  =  0.9840944220235376\n",
      "V(0.4,50)  =  0.9936344385781742\n",
      "V(0.4,100) =  0.9968169807056892\n",
      "V(0.4,200) =  0.9984084605159539\n"
     ]
    }
   ],
   "source": [
    "## print V(y,m) for y = 0.4 and various m\n",
    "## to develop some intuition for how quickly\n",
    "## the series converges\n",
    "\n",
    "print(\"V(0.4,1)   = \",V(0.5,1))\n",
    "print(\"V(0.4,2)   = \",V(0.5,2))\n",
    "print(\"V(0.4,3)   = \",V(0.5,3))\n",
    "print(\"V(0.4,5)   = \",V(0.5,5))\n",
    "print(\"V(0.4,10)  = \",V(0.5,10))\n",
    "print(\"V(0.4,20)  = \",V(0.5,20))\n",
    "print(\"V(0.4,50)  = \",V(0.5,50))\n",
    "print(\"V(0.4,100) = \",V(0.5,100))\n",
    "print(\"V(0.4,200) = \",V(0.5,200))"
   ]
  },
  {
   "cell_type": "code",
   "execution_count": 93,
   "metadata": {
    "scrolled": false
   },
   "outputs": [
    {
     "data": {
      "text/plain": [
       "[<matplotlib.lines.Line2D at 0x7ff13073af10>]"
      ]
     },
     "execution_count": 93,
     "metadata": {},
     "output_type": "execute_result"
    },
    {
     "data": {
      "image/png": "[encoded data removed]",
      "text/plain": [
       "<Figure size 432x288 with 1 Axes>"
      ]
     },
     "metadata": {
      "needs_background": "light"
     },
     "output_type": "display_data"
    }
   ],
   "source": [
    "## create an array of y values with 1000 entries\n",
    "yValues = np.arange(0,1,0.001)\n",
    "##print(yValues)\n",
    "\n",
    "\n",
    "## fill vFunc1 with V(y,1) for each of 1000 values\n",
    "vFunc1 = np.zeros(len(yValues))\n",
    "for ii in range(len(yValues)):\n",
    "    x = V(yValues[ii],1)\n",
    "    vFunc1[ii] = x\n",
    "\n",
    "    \n",
    "## and for  V(y,2)\n",
    "vFunc2 = np.zeros(len(yValues))\n",
    "for ii in range(len(yValues)):\n",
    "    x = V(yValues[ii],2)\n",
    "    vFunc2[ii] = x\n",
    "    \n",
    "vFunc50 = np.zeros(len(yValues))\n",
    "for ii in range(len(yValues)):\n",
    "    x = V(yValues[ii],50)\n",
    "    vFunc50[ii] = x\n",
    "    \n",
    "vFunc200 = np.zeros(len(yValues))\n",
    "for ii in range(len(yValues)):\n",
    "    x = V(yValues[ii],200)\n",
    "    vFunc200[ii] = x\n",
    "\n",
    "    \n",
    "## plot the functions of (y,m)    \n",
    "plt.plot(yValues,vFunc1,\"b\")\n",
    "plt.plot(yValues,vFunc2,\"deepskyblue\")\n",
    "plt.plot(yValues,vFunc50,\"red\")\n",
    "plt.plot(yValues,vFunc200,\"purple\")\n"
   ]
  },
  {
   "cell_type": "code",
   "execution_count": 95,
   "metadata": {},
   "outputs": [
    {
     "name": "stdout",
     "output_type": "stream",
     "text": [
      "rms_1 =  0.4352377099871408\n",
      " \n",
      "rms_2 =  0.3152299528620544\n",
      "  \n",
      "rms_50 =  0.06418267319459252\n",
      " \n",
      "rms_200 =  0.035808799900796356\n",
      "  \n"
     ]
    }
   ],
   "source": [
    "## for each function (y,m), calculate the root-mean-square (rms)\n",
    "## deviation over the range calculated and print the\n",
    "## value; the rms deviation from the target value is\n",
    "## a standard metric for evaluating the quality of\n",
    "## of a description\n",
    "\n",
    "rms_1 = np.sqrt(np.divide(np.sum(np.square(vFunc1-1)),len(vFunc1)))\n",
    "print(\"rms_1 = \",rms_1)\n",
    "print(\" \")\n",
    "rms_2 = np.sqrt(np.divide(np.sum(np.square(vFunc2-1)),len(vFunc1)))\n",
    "print(\"rms_2 = \",rms_2)\n",
    "print(\"  \")\n",
    "rms_50 = np.sqrt(np.divide(np.sum(np.square(vFunc50-1)),len(vFunc1)))\n",
    "print(\"rms_50 = \",rms_50)\n",
    "print(\" \")\n",
    "rms_200 = np.sqrt(np.divide(np.sum(np.square(vFunc200-1)),len(vFunc1)))\n",
    "print(\"rms_200 = \",rms_200)\n",
    "print(\"  \")"
   ]
  },
  {
   "cell_type": "code",
   "execution_count": null,
   "metadata": {},
   "outputs": [],
   "source": []
  },
  {
   "cell_type": "code",
   "execution_count": null,
   "metadata": {},
   "outputs": [],
   "source": []
  },
  {
   "cell_type": "code",
   "execution_count": null,
   "metadata": {},
   "outputs": [],
   "source": []
  }
 ],
 "metadata": {
  "kernelspec": {
   "display_name": "Python 3",
   "language": "python",
   "name": "python3"
  },
  "language_info": {
   "codemirror_mode": {
    "name": "ipython",
    "version": 3
   },
   "file_extension": ".py",
   "mimetype": "text/x-python",
   "name": "python",
   "nbconvert_exporter": "python",
   "pygments_lexer": "ipython3",
   "version": "3.7.6"
  }
 },
 "nbformat": 4,
 "nbformat_minor": 4
}
